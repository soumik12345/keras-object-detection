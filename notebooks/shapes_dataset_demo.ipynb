{
 "cells": [
  {
   "cell_type": "code",
   "execution_count": null,
   "metadata": {},
   "outputs": [],
   "source": [
    "import sys\n",
    "sys.path.append(\"..\")\n",
    "\n",
    "from keras_object_detection import benchmarks, dataloader\n",
    "from keras_object_detection.dataloader import augmentations"
   ]
  },
  {
   "cell_type": "code",
   "execution_count": null,
   "metadata": {},
   "outputs": [],
   "source": [
    "shapes_benchmark = benchmarks.ShapesBenchMark(height=448, width=448)\n",
    "shapes_benchmark.set_label_map()\n",
    "shapes_benchmark.make_dataset(n_data_samples=256)\n",
    "\n",
    "print(f\"Dataset Length: {len(shapes_benchmark)}\")"
   ]
  },
  {
   "cell_type": "code",
   "execution_count": null,
   "metadata": {},
   "outputs": [],
   "source": [
    "shapes_benchmark.plot_samples()"
   ]
  },
  {
   "cell_type": "code",
   "execution_count": null,
   "metadata": {},
   "outputs": [],
   "source": [
    "tfrecord_dir = shapes_benchmark.create_tfrecords()\n",
    "tfrecord_dir"
   ]
  },
  {
   "cell_type": "code",
   "execution_count": null,
   "metadata": {},
   "outputs": [],
   "source": [
    "data_loader = dataloader.YOLOv1DataLoader(\n",
    "    dataset_path=tfrecord_dir, run_sanity_checks=True\n",
    ")\n",
    "data_loader.add_augmentation(augmentations.random_flip_data)\n",
    "train_dataset = data_loader.build_dataset(\n",
    "    is_train=True, label_map=shapes_benchmark.label_map\n",
    ")\n",
    "train_dataset"
   ]
  },
  {
   "cell_type": "code",
   "execution_count": null,
   "metadata": {},
   "outputs": [],
   "source": [
    "x, y = next(iter(train_dataset))\n",
    "print(\"x shpae:\", x.shape)\n",
    "print(\"y shpae:\", y.shape)"
   ]
  },
  {
   "cell_type": "code",
   "execution_count": null,
   "metadata": {},
   "outputs": [],
   "source": []
  }
 ],
 "metadata": {
  "interpreter": {
   "hash": "8945e4927a304a6fa7c79c075f992ecf3d49a148f378a30292aaa40505462246"
  },
  "kernelspec": {
   "display_name": "Python 3.6.9 64-bit ('venv': virtualenv)",
   "name": "python3"
  },
  "language_info": {
   "codemirror_mode": {
    "name": "ipython",
    "version": 3
   },
   "file_extension": ".py",
   "mimetype": "text/x-python",
   "name": "python",
   "nbconvert_exporter": "python",
   "pygments_lexer": "ipython3",
   "version": "3.8.10"
  },
  "orig_nbformat": 4
 },
 "nbformat": 4,
 "nbformat_minor": 2
}
